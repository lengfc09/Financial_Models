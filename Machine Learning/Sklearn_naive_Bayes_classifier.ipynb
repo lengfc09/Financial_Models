{
 "metadata": {
  "language_info": {
   "codemirror_mode": {
    "name": "ipython",
    "version": 3
   },
   "file_extension": ".py",
   "mimetype": "text/x-python",
   "name": "python",
   "nbconvert_exporter": "python",
   "pygments_lexer": "ipython3",
   "version": "3.7.4-final"
  },
  "orig_nbformat": 2,
  "kernelspec": {
   "name": "python3",
   "display_name": "Python 3.7.4 64-bit ('base': conda)",
   "metadata": {
    "interpreter": {
     "hash": "a5e30402f147a97cac5d558dbfea4ff3f916a58d454bb2c6efc731faf3dd0927"
    }
   }
  }
 },
 "nbformat": 4,
 "nbformat_minor": 2,
 "cells": [
  {
   "cell_type": "code",
   "execution_count": 1,
   "metadata": {},
   "outputs": [],
   "source": [
    "# This script illustrates how to use the naive Bayes classifier from\n",
    "# SciKit-Learn.\n",
    "import numpy as np\n",
    "from sklearn.model_selection import train_test_split\n",
    "from sklearn.naive_bayes import MultinomialNB\n",
    "from sklearn import metrics     # To evaluate model performance."
   ]
  },
  {
   "cell_type": "code",
   "execution_count": 2,
   "metadata": {},
   "outputs": [],
   "source": [
    "# Generate random data to work on. We don't expect any great results\n",
    "# from naive Bayes here because the input data is just random. In\n",
    "# reality, if there is some structure in the data, naive Bayes should\n",
    "# (hopefully) be able to pick it up.\n",
    "X = np.random.randint(5, size=(6, 100))"
   ]
  },
  {
   "cell_type": "code",
   "execution_count": 4,
   "metadata": {},
   "outputs": [],
   "source": [
    "y = np.array([1, 2, 3, 3, 2, 1])"
   ]
  },
  {
   "cell_type": "code",
   "execution_count": 5,
   "metadata": {},
   "outputs": [],
   "source": [
    "# Split up the data into training and testing.\n",
    "count_train, count_test, y_train, y_test = \\\n",
    "    train_test_split(X, y, test_size=0.33, random_state=42)"
   ]
  },
  {
   "cell_type": "code",
   "execution_count": 6,
   "metadata": {},
   "outputs": [],
   "source": [
    "# Initialize our class. If the result is suboptimal, you can change\n",
    "# the `alpha` parameter.\n",
    "nb = MultinomialNB()            # MultinomialNP(alpha=0.5)"
   ]
  },
  {
   "cell_type": "code",
   "execution_count": 7,
   "metadata": {},
   "outputs": [
    {
     "output_type": "execute_result",
     "data": {
      "text/plain": [
       "MultinomialNB()"
      ]
     },
     "metadata": {},
     "execution_count": 7
    }
   ],
   "source": [
    "# Determine internal parameters based on dataset. Pass training count\n",
    "# vectorizer first, and training labels second.\n",
    "nb.fit(count_train, y_train)"
   ]
  },
  {
   "cell_type": "code",
   "execution_count": 8,
   "metadata": {},
   "outputs": [
    {
     "output_type": "execute_result",
     "data": {
      "text/plain": [
       "array([1, 2, 3])"
      ]
     },
     "metadata": {},
     "execution_count": 8
    }
   ],
   "source": [
    "# Get the class labels.\n",
    "nb.classes_"
   ]
  },
  {
   "cell_type": "code",
   "execution_count": 14,
   "metadata": {},
   "outputs": [
    {
     "output_type": "execute_result",
     "data": {
      "text/plain": [
       "array([-4.01096295, -4.92725369, -4.52178858, -4.01096295, -4.01096295,\n",
       "       -4.52178858, -5.62040087, -5.62040087, -5.62040087, -5.62040087,\n",
       "       -4.52178858, -4.92725369, -4.92725369, -4.2341065 , -4.2341065 ,\n",
       "       -4.92725369, -4.2341065 , -4.01096295, -4.92725369, -4.2341065 ,\n",
       "       -4.52178858, -4.92725369, -4.92725369, -4.52178858, -4.52178858,\n",
       "       -4.92725369, -4.92725369, -4.92725369, -4.52178858, -4.52178858,\n",
       "       -4.01096295, -4.2341065 , -5.62040087, -4.2341065 , -4.2341065 ,\n",
       "       -4.52178858, -5.62040087, -4.52178858, -4.92725369, -4.01096295,\n",
       "       -5.62040087, -4.01096295, -5.62040087, -4.2341065 , -4.92725369,\n",
       "       -4.52178858, -4.2341065 , -4.52178858, -4.92725369, -5.62040087,\n",
       "       -4.2341065 , -4.92725369, -4.92725369, -4.92725369, -4.92725369,\n",
       "       -5.62040087, -5.62040087, -4.52178858, -5.62040087, -4.01096295,\n",
       "       -4.92725369, -4.92725369, -5.62040087, -5.62040087, -4.52178858,\n",
       "       -4.92725369, -5.62040087, -4.2341065 , -5.62040087, -4.01096295,\n",
       "       -4.92725369, -4.92725369, -4.01096295, -4.2341065 , -4.52178858,\n",
       "       -4.2341065 , -5.62040087, -4.2341065 , -4.92725369, -4.52178858,\n",
       "       -4.52178858, -4.2341065 , -4.52178858, -4.52178858, -5.62040087,\n",
       "       -4.01096295, -4.92725369, -5.62040087, -4.2341065 , -5.62040087,\n",
       "       -4.52178858, -4.2341065 , -4.2341065 , -4.52178858, -4.01096295,\n",
       "       -4.52178858, -4.52178858, -4.92725369, -4.2341065 , -5.62040087])"
      ]
     },
     "metadata": {},
     "execution_count": 14
    }
   ],
   "source": [
    "# Log-probability of features occurring, given a class.\n",
    "nb.coef_[0]"
   ]
  },
  {
   "cell_type": "code",
   "execution_count": 15,
   "metadata": {},
   "outputs": [],
   "source": [
    "# Make predictions of the label for test data.\n",
    "pred = nb.predict(count_test)"
   ]
  },
  {
   "cell_type": "code",
   "execution_count": 16,
   "metadata": {},
   "outputs": [
    {
     "output_type": "execute_result",
     "data": {
      "text/plain": [
       "array([3, 2])"
      ]
     },
     "metadata": {},
     "execution_count": 16
    }
   ],
   "source": [
    "pred"
   ]
  },
  {
   "cell_type": "code",
   "execution_count": 17,
   "metadata": {},
   "outputs": [
    {
     "output_type": "execute_result",
     "data": {
      "text/plain": [
       "0.5"
      ]
     },
     "metadata": {},
     "execution_count": 17
    }
   ],
   "source": [
    "# Test accuracy of predictions.\n",
    "metrics.accuracy_score(y_test, pred)"
   ]
  },
  {
   "cell_type": "code",
   "execution_count": 22,
   "metadata": {},
   "outputs": [
    {
     "output_type": "execute_result",
     "data": {
      "text/plain": [
       "array([[0, 0],\n",
       "       [0, 0]])"
      ]
     },
     "metadata": {},
     "execution_count": 22
    }
   ],
   "source": [
    "# The confusion matrix shows correct and incorrect labels.\n",
    "#  `labels` can be used to reorder the resulting matrix. On the ouput array, the\n",
    "# main diagonal shows the true scores, i.e. the labels that have been\n",
    "# correctly predicted. The true labels correspond to the rows while\n",
    "# the predicted labels correspond to the columns. For example, if you\n",
    "# have in the second row \"sci-fi\" and in the first column \"action\"\n",
    "# (e.g. if you're looking at movie reviews), then the entry in the\n",
    "# second row, first column shows you the number of movie reviews that\n",
    "# are about sci-fi movies but were incorrectly classified as reviews\n",
    "# of action movies.\n",
    "metrics.confusion_matrix(y_test, pred, labels=[0, 1])\n"
   ]
  },
  {
   "cell_type": "code",
   "execution_count": 28,
   "metadata": {},
   "outputs": [
    {
     "output_type": "execute_result",
     "data": {
      "text/plain": [
       "0.5"
      ]
     },
     "metadata": {},
     "execution_count": 28
    }
   ],
   "source": [
    "metrics.f1_score(y_test,pred,average='weighted')"
   ]
  },
  {
   "cell_type": "code",
   "execution_count": null,
   "metadata": {},
   "outputs": [],
   "source": []
  }
 ]
}