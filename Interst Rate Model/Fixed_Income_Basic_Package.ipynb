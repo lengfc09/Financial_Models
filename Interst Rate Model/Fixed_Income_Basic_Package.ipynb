{
 "metadata": {
  "language_info": {
   "codemirror_mode": {
    "name": "ipython",
    "version": 3
   },
   "file_extension": ".py",
   "mimetype": "text/x-python",
   "name": "python",
   "nbconvert_exporter": "python",
   "pygments_lexer": "ipython3",
   "version": "3.7.4-final"
  },
  "orig_nbformat": 2,
  "kernelspec": {
   "name": "python3",
   "display_name": "Python 3.7.4 64-bit ('base': conda)",
   "metadata": {
    "interpreter": {
     "hash": "a5e30402f147a97cac5d558dbfea4ff3f916a58d454bb2c6efc731faf3dd0927"
    }
   }
  }
 },
 "nbformat": 4,
 "nbformat_minor": 2,
 "cells": [
  {
   "cell_type": "code",
   "execution_count": 2,
   "metadata": {},
   "outputs": [],
   "source": [
    "import numpy as np\n",
    "import scipy as sp\n",
    "import pandas as pd\n",
    "import matplotlib.pyplot as plt"
   ]
  },
  {
   "cell_type": "code",
   "execution_count": 22,
   "metadata": {},
   "outputs": [],
   "source": [
    "# Determine the swap rate curve from discount curve\n",
    "def swap_curve(P_zcb,delta=1):\n",
    "    # Determine the swap rates from\n",
    "    # compounding frequency = 1/delta \n",
    "    # time step is 1 by default\n",
    "    from scipy.optimize import fsolve\n",
    "    import numpy as np\n",
    "    import pandas as pd\n",
    "    P=list(P_zcb)\n",
    "    swap_rates=[]\n",
    "    for i,price in enumerate(P):\n",
    "        temp_fun=(lambda t: np.sum([t*delta*discount for discount in P[:i+1]])+P[i]-1)\n",
    "        c=fsolve(temp_fun,0.01)\n",
    "        swap_rates.append(c[0])\n",
    "    df=pd.DataFrame(swap_rates,index=np.arange(len(P)+1)[1:])\n",
    "    df.index.name='Period'\n",
    "    df.columns=['Swap_rate']\n",
    "    return df"
   ]
  },
  {
   "cell_type": "code",
   "execution_count": 23,
   "metadata": {},
   "outputs": [
    {
     "output_type": "execute_result",
     "data": {
      "text/plain": [
       "        Swap_rate\n",
       "Period           \n",
       "1        0.049600\n",
       "2        0.049054\n",
       "3        0.049766\n",
       "4        0.050500\n",
       "5        0.051344\n",
       "6        0.052185\n",
       "7        0.052839\n",
       "8        0.053491\n",
       "9        0.054042\n",
       "10       0.054591"
      ],
      "text/html": "<div>\n<style scoped>\n    .dataframe tbody tr th:only-of-type {\n        vertical-align: middle;\n    }\n\n    .dataframe tbody tr th {\n        vertical-align: top;\n    }\n\n    .dataframe thead th {\n        text-align: right;\n    }\n</style>\n<table border=\"1\" class=\"dataframe\">\n  <thead>\n    <tr style=\"text-align: right;\">\n      <th></th>\n      <th>Swap_rate</th>\n    </tr>\n    <tr>\n      <th>Period</th>\n      <th></th>\n    </tr>\n  </thead>\n  <tbody>\n    <tr>\n      <th>1</th>\n      <td>0.049600</td>\n    </tr>\n    <tr>\n      <th>2</th>\n      <td>0.049054</td>\n    </tr>\n    <tr>\n      <th>3</th>\n      <td>0.049766</td>\n    </tr>\n    <tr>\n      <th>4</th>\n      <td>0.050500</td>\n    </tr>\n    <tr>\n      <th>5</th>\n      <td>0.051344</td>\n    </tr>\n    <tr>\n      <th>6</th>\n      <td>0.052185</td>\n    </tr>\n    <tr>\n      <th>7</th>\n      <td>0.052839</td>\n    </tr>\n    <tr>\n      <th>8</th>\n      <td>0.053491</td>\n    </tr>\n    <tr>\n      <th>9</th>\n      <td>0.054042</td>\n    </tr>\n    <tr>\n      <th>10</th>\n      <td>0.054591</td>\n    </tr>\n  </tbody>\n</table>\n</div>"
     },
     "metadata": {},
     "execution_count": 23
    }
   ],
   "source": [
    "sr=swap_curve([0.9758,0.9527,0.9289,0.9050,0.8808,0.8565,0.8327,0.8090,0.7858,0.7628],delta=0.5)\n",
    "sr"
   ]
  },
  {
   "cell_type": "code",
   "execution_count": 24,
   "metadata": {},
   "outputs": [],
   "source": [
    "# Determine the discount curve from swap curve\n",
    "def discount_curve(swap_curve,delta=1):\n",
    "    # Determine the discount curve from swap curve\n",
    "    # compounding frequency = 1/delta \n",
    "    # time step is 1 by default\n",
    "    # compounding frequncy is 1/delta \n",
    "    from scipy.optimize import fsolve\n",
    "    import numpy as np\n",
    "    import pandas as pd\n",
    "    sr=list(swap_curve)\n",
    "    discount_factor=[]\n",
    "    for i,c in enumerate(sr):\n",
    "        temp_fun=(lambda t: np.sum([discount*delta*c for discount in discount_factor])+t+t*delta*c-1)\n",
    "        discount=fsolve(temp_fun,1)\n",
    "        discount_factor.append(discount[0])\n",
    "    df=pd.DataFrame(discount_factor,index=np.arange(len(sr)+1)[1:])\n",
    "    df.index.name='Period'\n",
    "    df.columns=['Discount Curve']\n",
    "    return df"
   ]
  },
  {
   "cell_type": "code",
   "execution_count": 25,
   "metadata": {},
   "outputs": [
    {
     "output_type": "execute_result",
     "data": {
      "text/plain": [
       "        Discount Curve\n",
       "Period                \n",
       "1               0.9758\n",
       "2               0.9527\n",
       "3               0.9289\n",
       "4               0.9050\n",
       "5               0.8808\n",
       "6               0.8565\n",
       "7               0.8327\n",
       "8               0.8090\n",
       "9               0.7858\n",
       "10              0.7628"
      ],
      "text/html": "<div>\n<style scoped>\n    .dataframe tbody tr th:only-of-type {\n        vertical-align: middle;\n    }\n\n    .dataframe tbody tr th {\n        vertical-align: top;\n    }\n\n    .dataframe thead th {\n        text-align: right;\n    }\n</style>\n<table border=\"1\" class=\"dataframe\">\n  <thead>\n    <tr style=\"text-align: right;\">\n      <th></th>\n      <th>Discount Curve</th>\n    </tr>\n    <tr>\n      <th>Period</th>\n      <th></th>\n    </tr>\n  </thead>\n  <tbody>\n    <tr>\n      <th>1</th>\n      <td>0.9758</td>\n    </tr>\n    <tr>\n      <th>2</th>\n      <td>0.9527</td>\n    </tr>\n    <tr>\n      <th>3</th>\n      <td>0.9289</td>\n    </tr>\n    <tr>\n      <th>4</th>\n      <td>0.9050</td>\n    </tr>\n    <tr>\n      <th>5</th>\n      <td>0.8808</td>\n    </tr>\n    <tr>\n      <th>6</th>\n      <td>0.8565</td>\n    </tr>\n    <tr>\n      <th>7</th>\n      <td>0.8327</td>\n    </tr>\n    <tr>\n      <th>8</th>\n      <td>0.8090</td>\n    </tr>\n    <tr>\n      <th>9</th>\n      <td>0.7858</td>\n    </tr>\n    <tr>\n      <th>10</th>\n      <td>0.7628</td>\n    </tr>\n  </tbody>\n</table>\n</div>"
     },
     "metadata": {},
     "execution_count": 25
    }
   ],
   "source": [
    "discount_curve(sr.values,delta=0.5)"
   ]
  },
  {
   "cell_type": "code",
   "execution_count": 10,
   "metadata": {},
   "outputs": [],
   "source": [
    "def myzcb(r,T,delta=1,compunding=0):\n",
    "     # r is the percentage of interesrate \n",
    "     # r is in line with compounding frequency = 1/delta if compunding =1\n",
    "     # if compounding=0 ,Continuously Compounding\n",
    "     # if compounding=1, compounding 1/delta times a year.\n",
    "     # delta is the time step between payments\n",
    "    import numpy as np\n",
    "    if compunding==0:\n",
    "        return np.exp(-r*T/100)\n",
    "    elif compunding==1:\n",
    "        n=1/delta\n",
    "        return np.power(1+0.01*r/n,-T*n)\n",
    "    else:\n",
    "        print(\"Please choose right compunding method\")"
   ]
  },
  {
   "cell_type": "code",
   "execution_count": 12,
   "metadata": {},
   "outputs": [
    {
     "output_type": "execute_result",
     "data": {
      "text/plain": [
       "0.9523809523809523"
      ]
     },
     "metadata": {},
     "execution_count": 12
    }
   ],
   "source": [
    "myzcb(5,1,compunding=1)"
   ]
  },
  {
   "cell_type": "code",
   "execution_count": 14,
   "metadata": {},
   "outputs": [
    {
     "output_type": "execute_result",
     "data": {
      "text/plain": [
       "0.8958341352965282"
      ]
     },
     "metadata": {},
     "execution_count": 14
    }
   ],
   "source": [
    "myzcb(5.5,2,compunding=0)"
   ]
  },
  {
   "cell_type": "code",
   "execution_count": 26,
   "metadata": {},
   "outputs": [
    {
     "output_type": "execute_result",
     "data": {
      "text/plain": [
       "array([1., 3.])"
      ]
     },
     "metadata": {},
     "execution_count": 26
    }
   ],
   "source": [
    "# Linear system\n",
    "A=np.array([[1,0],[0,1]])\n",
    "b=np.array([1,3])\n",
    "np.linalg.solve(A,b)"
   ]
  },
  {
   "cell_type": "code",
   "execution_count": 29,
   "metadata": {},
   "outputs": [
    {
     "output_type": "execute_result",
     "data": {
      "text/plain": [
       "0.9994501512222747"
      ]
     },
     "metadata": {},
     "execution_count": 29
    }
   ],
   "source": [
    "myzcb(0.11,0.5)"
   ]
  },
  {
   "cell_type": "code",
   "execution_count": 77,
   "metadata": {},
   "outputs": [],
   "source": [
    "class Vasicek():\n",
    "    def __init__(self,gamma,sigma,rstar):\n",
    "        import numpy as np\n",
    "        import pandas as pd\n",
    "\n",
    "        self.gamma=gamma\n",
    "        self.sigma=sigma\n",
    "        self.rstar=rstar\n",
    "    \n",
    "    def B(self,tau):\n",
    "        import numpy as np\n",
    "        return 1/self.gamma*(1-np.exp(-self.gamma*tau))\n",
    "    \n",
    "    def A(self,tau):\n",
    "        return (self.B(tau)-tau)*(self.rstar-self.sigma**2/(2*self.gamma**2))-self.sigma**2*self.B(tau)*self.B(tau)/(4*self.gamma)\n",
    "\n",
    "    def Z(self,tau,r0):\n",
    "        import numpy as np\n",
    "        return np.exp(self.A(tau)-self.B(tau)*r0)\n",
    "    \n",
    "    def YTM(self,tau,r0):\n",
    "        return -self.A(tau)/tau+self.B(tau)/tau*r0\n",
    "        "
   ]
  },
  {
   "cell_type": "code",
   "execution_count": 78,
   "metadata": {},
   "outputs": [],
   "source": [
    "vasicek1=Vasicek(0.4653,0.0221,0.0634)"
   ]
  },
  {
   "cell_type": "code",
   "execution_count": 56,
   "metadata": {},
   "outputs": [
    {
     "output_type": "execute_result",
     "data": {
      "text/plain": [
       "2.1286633137567903"
      ]
     },
     "metadata": {},
     "execution_count": 56
    }
   ],
   "source": [
    "vasicek1.B(10)"
   ]
  },
  {
   "cell_type": "code",
   "execution_count": 57,
   "metadata": {},
   "outputs": [
    {
     "output_type": "execute_result",
     "data": {
      "text/plain": [
       "-0.49135336496544096"
      ]
     },
     "metadata": {},
     "execution_count": 57
    }
   ],
   "source": [
    "vasicek1.A(10)"
   ]
  },
  {
   "cell_type": "code",
   "execution_count": 58,
   "metadata": {},
   "outputs": [
    {
     "output_type": "execute_result",
     "data": {
      "text/plain": [
       "0.5442046830847762"
      ]
     },
     "metadata": {},
     "execution_count": 58
    }
   ],
   "source": [
    "vasicek1.Z(10,0.055)"
   ]
  },
  {
   "cell_type": "code",
   "execution_count": 59,
   "metadata": {},
   "outputs": [
    {
     "output_type": "execute_result",
     "data": {
      "text/plain": [
       "0.06084298472220645"
      ]
     },
     "metadata": {},
     "execution_count": 59
    }
   ],
   "source": [
    "vasicek1.YTM(10,0.055)"
   ]
  },
  {
   "cell_type": "code",
   "execution_count": 60,
   "metadata": {},
   "outputs": [],
   "source": [
    "class CIR():\n",
    "    def __init__(self,gamma,astar,rstar):\n",
    "        import numpy as np\n",
    "        import pandas as pd\n",
    "\n",
    "        self.gamma=gamma\n",
    "        self.a=astar\n",
    "        self.rstar=rstar\n",
    "        self.phi=np.sqrt(self.gamma**2+2*self.a)\n",
    "    \n",
    "    def B(self,tau):\n",
    "        import numpy as np\n",
    "        B1=2*(np.exp(self.phi*tau)-1)\n",
    "        B2=(self.gamma+self.phi)*(np.exp(self.phi*tau)-1)+2*self.phi\n",
    "        return B1/B2\n",
    "    \n",
    "    def A(self,tau):\n",
    "        A1=(self.gamma+self.phi)*(np.exp(self.phi*tau)-1)+2*self.phi\n",
    "        A2=2*self.rstar*self.gamma/self.a*np.log(2*self.phi*np.exp((self.phi+self.gamma)*tau/2)/(A1))\n",
    "        return A2\n",
    "        \n",
    "    def Z(self,tau,r0):\n",
    "        import numpy as np\n",
    "        return np.exp(self.A(tau)-self.B(tau)*r0)\n",
    "    \n",
    "    def YTM(self,tau,r0):\n",
    "        return -self.A(tau)/tau+self.B(tau)/tau*r0\n",
    "        "
   ]
  },
  {
   "cell_type": "code",
   "execution_count": 69,
   "metadata": {},
   "outputs": [],
   "source": [
    "cir1=CIR(0.4653,1,0.0634)"
   ]
  },
  {
   "cell_type": "code",
   "execution_count": 70,
   "metadata": {},
   "outputs": [
    {
     "output_type": "execute_result",
     "data": {
      "text/plain": [
       "1.0234922961258646"
      ]
     },
     "metadata": {},
     "execution_count": 70
    }
   ],
   "source": [
    "cir1.B(10)"
   ]
  },
  {
   "cell_type": "code",
   "execution_count": 71,
   "metadata": {},
   "outputs": [
    {
     "output_type": "execute_result",
     "data": {
      "text/plain": [
       "-0.2770805660968212"
      ]
     },
     "metadata": {},
     "execution_count": 71
    }
   ],
   "source": [
    "cir1.A(10)"
   ]
  },
  {
   "cell_type": "code",
   "execution_count": 72,
   "metadata": {},
   "outputs": [
    {
     "output_type": "execute_result",
     "data": {
      "text/plain": [
       "0.7165031449619667"
      ]
     },
     "metadata": {},
     "execution_count": 72
    }
   ],
   "source": [
    "cir1.Z(10,0.055)"
   ]
  },
  {
   "cell_type": "code",
   "execution_count": 73,
   "metadata": {},
   "outputs": [
    {
     "output_type": "execute_result",
     "data": {
      "text/plain": [
       "0.033337264238374374"
      ]
     },
     "metadata": {},
     "execution_count": 73
    }
   ],
   "source": [
    "cir1.YTM(10,0.055)"
   ]
  },
  {
   "cell_type": "code",
   "execution_count": 80,
   "metadata": {},
   "outputs": [],
   "source": [
    "vasicek2=Vasicek(0.834,0.097,0.048)\n"
   ]
  },
  {
   "cell_type": "code",
   "execution_count": 82,
   "metadata": {},
   "outputs": [
    {
     "output_type": "execute_result",
     "data": {
      "text/plain": [
       "0.03993505902890878"
      ]
     },
     "metadata": {},
     "execution_count": 82
    }
   ],
   "source": [
    "vasicek2.YTM(10,0.027)"
   ]
  },
  {
   "cell_type": "code",
   "execution_count": null,
   "metadata": {},
   "outputs": [],
   "source": []
  }
 ]
}