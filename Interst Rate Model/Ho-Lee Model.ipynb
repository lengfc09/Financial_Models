{
 "metadata": {
  "language_info": {
   "codemirror_mode": {
    "name": "ipython",
    "version": 3
   },
   "file_extension": ".py",
   "mimetype": "text/x-python",
   "name": "python",
   "nbconvert_exporter": "python",
   "pygments_lexer": "ipython3",
   "version": "3.7.4-final"
  },
  "orig_nbformat": 2,
  "kernelspec": {
   "name": "python3",
   "display_name": "Python 3.7.4 64-bit ('base': conda)",
   "metadata": {
    "interpreter": {
     "hash": "a5e30402f147a97cac5d558dbfea4ff3f916a58d454bb2c6efc731faf3dd0927"
    }
   }
  }
 },
 "nbformat": 4,
 "nbformat_minor": 2,
 "cells": [
  {
   "cell_type": "code",
   "execution_count": 2,
   "metadata": {},
   "outputs": [],
   "source": [
    "class HoLee():\n",
    "    # HoLee Model for pring fixed income products\n",
    "    # P:=[P_1,P_2,...P_T] \n",
    "    # P_i is the the price of zero Coupon Bonds matured in i periods\n",
    "    # Notional Amount is 1\n",
    "    # sigma is the annualized std of short rates in decimals (!!not percentage).\n",
    "    # delta is the time step for each period, e.g. 0.25 year\n",
    "    #########################################################################\n",
    "    #\n",
    "    #   Node 0    Node 1      Node 2      Node 3       Node 4       Node 5\n",
    "    #\n",
    "    #                                                            0.066643\n",
    "    #                                               0.0632758\n",
    "    #                                  0.0616506                 0.0616437\n",
    "    #                       0.056084                0.0582758\n",
    "    #            0.05263               0.0566506                 0.0566437\n",
    "    #0.04969                0.051084                0.0532758\n",
    "    #            0.04763               0.0516506                 0.0516437\n",
    "    #                       0.046084                0.0482758\n",
    "    #                                  0.0466506                 0.0466437\n",
    "    #                                               0.0432758\n",
    "    #                                                            0.04164375\n",
    "    #\n",
    "    ##########################################################################\n",
    "    def __init__(self):\n",
    "        import numpy as np\n",
    "        import pandas as pd\n",
    "        \n",
    "        self.P_zcb=np.nan\n",
    "        self.sigma=np.nan\n",
    "        self.delta=np.nan\n",
    "        # The risk-neutral Prices Tree\n",
    "        self.prices_tree=np.nan\n",
    "        # The risk-neutral Interest Rates Tree\n",
    "        self.rates_tree=np.nan\n",
    "        self.thetas=np.nan\n",
    "        self.compounding=np.nan\n",
    "\n",
    "    def fit(self,P_zcb,sigma,delta,compounding=0):\n",
    "        # if compounding=0 ,Continuously Compounding\n",
    "        # if compounding=1, compounding 1/delta times a year.\n",
    "        from scipy.optimize import fsolve\n",
    "        import numpy as np\n",
    "        import pandas as pd\n",
    "        thetas=[]\n",
    "        P=list(P_zcb)\n",
    "        if compounding ==0:\n",
    "            r0=np.log(P[0])/(-delta)\n",
    "        else:\n",
    "            r0=(1/P[0]-1)/delta\n",
    "        for i,price in enumerate(P[1:]):\n",
    "            p0=price\n",
    "            func=(lambda t: self.myholee(r0,sigma,delta,thetas+[t],compounding)[0]-p0)\n",
    "            new_theta=fsolve(func,0.02)\n",
    "            thetas.append(new_theta[0])\n",
    "\n",
    "        self.P_zcb=P_zcb\n",
    "        self.sigma=sigma\n",
    "        self.delta=delta\n",
    "        self.thetas=thetas\n",
    "        self.compounding=compounding\n",
    "\n",
    "        self.rates_tree=self.myholee(r0,sigma,delta,thetas,compounding)[2]\n",
    "        self.prices_tree=self.myholee(r0,sigma,delta,thetas,compounding)[1]\n",
    "\n",
    "\n",
    "        return \n",
    "    \n",
    "    def summary(self):\n",
    "        print(\"Fitted Interest Rates Tree:\")\n",
    "        print(self.rates_tree)\n",
    "        print(\"============================\")\n",
    "        print(\"Fitted Prices Tree:\")\n",
    "        print(self.prices_tree)\n",
    "\n",
    "    \n",
    "    def pricing(self,CFs,type='conditional',lag=1):\n",
    "        import numpy as np\n",
    "        import pandas as pd\n",
    "        def discount(rr,TT):\n",
    "            if self.compounding==0:\n",
    "                return np.exp(-rr*TT)\n",
    "            else:\n",
    "                return 1/(1+rr*self.delta)**(TT/self.delta)\n",
    "        # type: fixed, CFs are fixed, and given as a array [CFS_1,CF_2,...,CF_T]\n",
    "        # type: conditional, CFs are contingent on j,r, and given as a function CFs(,r)\n",
    "        # lag mean, for the functin type CFs, it CF_T = CFs(r_{T-lag})\n",
    "        # lag=0, the contingent CF is paid instantly after the amount is decided\n",
    "        # lag=1, means the contingent CF is paid 1 peirod after the amount is decided.\n",
    "        if type==\"fixed\":\n",
    "            assert len(CFs)==len(self.P_zcb), \"Length of CFs are not equal to Length of Given Zero Coupon Bonds\"\n",
    "            prices=np.zeros(self.prices_tree.shape)\n",
    "            layers=prices.shape[1]\n",
    "            for j in np.arange(layers-2,-1,-1):\n",
    "                for i in np.arange(j+1):\n",
    "                    r=self.rates_tree.iloc[i,j]\n",
    "                    prices[i,j]=discount(r,self.delta)*0.5*(prices[i,j+1]+prices[i+1,j+1])+discount(r,self.delta)*CFs[j]\n",
    "        \n",
    "        else:\n",
    "            from inspect import isfunction\n",
    "            assert isfunction(CFs), \"For Non-Fixed payoffs, CFs must be a function!\"\n",
    "\n",
    "            \n",
    "            prices=np.zeros(self.prices_tree.shape)\n",
    "            layers=prices.shape[1]\n",
    "            for j in np.arange(layers-2,-1,-1):\n",
    "                for i in np.arange(j+1):\n",
    "                    r=self.rates_tree.iloc[i,j]\n",
    "                    # Pay instantly\n",
    "                    if lag==0:\n",
    "                        prices[i,j]=discount(r,self.delta)*0.5*(prices[i,j+1]+prices[i+1,j+1])+CFs(j,r)\n",
    "                    # Pay 1 period after the r is realized\n",
    "                    elif lag==1:\n",
    "                        prices[i,j]=discount(r,self.delta)*0.5*(prices[i,j+1]+CFs(j,r)+prices[i+1,j+1]+CFs(j,r))\n",
    "                    else:\n",
    "                        print(\"lag must be 0 or 1!\")\n",
    "                        raise Error\n",
    "\n",
    "\n",
    "\n",
    "\n",
    "        return [prices[0,0],pd.DataFrame(prices)]\n",
    "\n",
    "\n",
    "\n",
    "    @staticmethod\n",
    "    def myholee(r0,sigma,delta,thetas,compounding=0):\n",
    "        import numpy as np\n",
    "        import pandas as pd\n",
    "        # r0 is the inital short rate\n",
    "        # thetas are theta_0 to theta_T\n",
    "        # delta is the time step\n",
    "        # m is theta_(T+1)\n",
    "        # compounding: 0: continuously compounding\n",
    "        # compounding: 1: 1/delta times a year\n",
    "        # return P[0,0],Prices, Risk_Neutral_Prices\n",
    "        layers=len(thetas)+1\n",
    "        Prices=np.zeros((layers+1,layers+1))\n",
    "        Prices[:,-1]=np.ones(layers+1)\n",
    "        InterestRates=np.zeros((layers,layers))\n",
    "\n",
    "        def discount(rr,TT):\n",
    "            if compounding==0:\n",
    "                return np.exp(-rr*TT)\n",
    "            else:\n",
    "                return 1/(1+rr*delta)**(TT/delta)\n",
    "        \n",
    "        # thetas=thetas+[m]\n",
    "        for j in np.arange(layers-1,-1,-1):\n",
    "            for i in np.arange(j+1):\n",
    "                kk=(j-2*i)*sigma*np.sqrt(delta)\n",
    "                r=r0+np.sum([theta*delta for theta in thetas[:j]])+kk\n",
    "                InterestRates[i,j]=r\n",
    "                Prices[i,j]=0.5*(discount(r,delta)*Prices[i,j+1]+discount(r,delta)*Prices[i+1,j+1])\n",
    "        import pandas as pd\n",
    "        return Prices[0,0],pd.DataFrame(Prices),pd.DataFrame(InterestRates)\n",
    "        \n",
    "        \n",
    "\n",
    "\n",
    "\n",
    "\n"
   ]
  },
  {
   "cell_type": "code",
   "execution_count": 3,
   "metadata": {},
   "outputs": [],
   "source": [
    "hl1=HoLee()"
   ]
  },
  {
   "cell_type": "code",
   "execution_count": 4,
   "metadata": {},
   "outputs": [
    {
     "output_type": "stream",
     "name": "stdout",
     "text": [
      "Fitted Interest Rates Tree:\nnan\n============================\nFitted Prices Tree:\nnan\n"
     ]
    }
   ],
   "source": [
    "hl1.summary()"
   ]
  },
  {
   "cell_type": "code",
   "execution_count": 5,
   "metadata": {},
   "outputs": [],
   "source": [
    "a1=  1/(1+0.04969*0.25)**1\n",
    "a2 = 1/(1+0.04991*0.25)**2\n",
    "a3 = 1/(1+0.05030*0.25)**3\n",
    "a4 = 1/(1+0.05126*0.25)**4\n",
    "a5 = 1/(1+0.05166*0.25)**5\n",
    "a6 = 1/(1+0.05207*0.25)**6"
   ]
  },
  {
   "cell_type": "code",
   "execution_count": 6,
   "metadata": {},
   "outputs": [],
   "source": [
    "P=[a1,a2,a3,a4,a5,a6]"
   ]
  },
  {
   "cell_type": "code",
   "execution_count": 7,
   "metadata": {},
   "outputs": [
    {
     "output_type": "stream",
     "name": "stderr",
     "text": [
      "/Users/Ben/anaconda3/lib/python3.7/site-packages/numpy/core/fromnumeric.py:87: VisibleDeprecationWarning: Creating an ndarray from ragged nested sequences (which is a list-or-tuple of lists-or-tuples-or ndarrays with different lengths or shapes) is deprecated. If you meant to do this, you must specify 'dtype=object' when creating the ndarray\n  return ufunc.reduce(obj, axis, dtype, out, **passkwargs)\n"
     ]
    }
   ],
   "source": [
    "hl1.fit(P,sigma=0.005,delta=0.25,compounding=1)"
   ]
  },
  {
   "cell_type": "code",
   "execution_count": 8,
   "metadata": {},
   "outputs": [
    {
     "output_type": "stream",
     "name": "stdout",
     "text": [
      "Fitted Interest Rates Tree:\n         0         1         2         3         4         5\n0  0.04969  0.052632  0.056085  0.061651  0.063276  0.066644\n1  0.00000  0.047632  0.051085  0.056651  0.058276  0.061644\n2  0.00000  0.000000  0.046085  0.051651  0.053276  0.056644\n3  0.00000  0.000000  0.000000  0.046651  0.048276  0.051644\n4  0.00000  0.000000  0.000000  0.000000  0.043276  0.046644\n5  0.00000  0.000000  0.000000  0.000000  0.000000  0.041644\n============================\nFitted Prices Tree:\n          0         1         2         3         4         5    6\n0  0.925334  0.933939  0.943894  0.955360  0.968891  0.983612  1.0\n1  0.000000  0.939718  0.948561  0.958898  0.971279  0.984823  1.0\n2  0.000000  0.000000  0.953256  0.962452  0.973677  0.986037  1.0\n3  0.000000  0.000000  0.000000  0.966024  0.976083  0.987254  1.0\n4  0.000000  0.000000  0.000000  0.000000  0.978499  0.988473  1.0\n5  0.000000  0.000000  0.000000  0.000000  0.000000  0.989696  1.0\n6  0.000000  0.000000  0.000000  0.000000  0.000000  0.000000  1.0\n"
     ]
    }
   ],
   "source": [
    "hl1.summary()"
   ]
  },
  {
   "cell_type": "code",
   "execution_count": 9,
   "metadata": {},
   "outputs": [
    {
     "output_type": "execute_result",
     "data": {
      "text/plain": [
       "array([1., 1., 1., 1., 1., 1.])"
      ]
     },
     "metadata": {},
     "execution_count": 9
    }
   ],
   "source": [
    "import numpy as np\n",
    "CF=np.ones(len(P))\n",
    "CF"
   ]
  },
  {
   "cell_type": "code",
   "execution_count": 10,
   "metadata": {},
   "outputs": [
    {
     "output_type": "execute_result",
     "data": {
      "text/plain": [
       "5.739966705018595"
      ]
     },
     "metadata": {},
     "execution_count": 10
    }
   ],
   "source": [
    "hl1.pricing(CF,type='fixed')[0]"
   ]
  },
  {
   "cell_type": "code",
   "execution_count": 11,
   "metadata": {},
   "outputs": [
    {
     "output_type": "execute_result",
     "data": {
      "text/plain": [
       "          0         1         2         3         4         5    6\n",
       "0  5.739967  4.802444  3.859718  2.910264  1.953318  0.983612  0.0\n",
       "1  0.000000  4.820099  3.871550  2.917408  1.956920  0.984823  0.0\n",
       "2  0.000000  0.000000  3.883441  2.924581  1.960533  0.986037  0.0\n",
       "3  0.000000  0.000000  0.000000  2.931784  1.964158  0.987254  0.0\n",
       "4  0.000000  0.000000  0.000000  0.000000  1.967795  0.988473  0.0\n",
       "5  0.000000  0.000000  0.000000  0.000000  0.000000  0.989696  0.0\n",
       "6  0.000000  0.000000  0.000000  0.000000  0.000000  0.000000  0.0"
      ],
      "text/html": "<div>\n<style scoped>\n    .dataframe tbody tr th:only-of-type {\n        vertical-align: middle;\n    }\n\n    .dataframe tbody tr th {\n        vertical-align: top;\n    }\n\n    .dataframe thead th {\n        text-align: right;\n    }\n</style>\n<table border=\"1\" class=\"dataframe\">\n  <thead>\n    <tr style=\"text-align: right;\">\n      <th></th>\n      <th>0</th>\n      <th>1</th>\n      <th>2</th>\n      <th>3</th>\n      <th>4</th>\n      <th>5</th>\n      <th>6</th>\n    </tr>\n  </thead>\n  <tbody>\n    <tr>\n      <th>0</th>\n      <td>5.739967</td>\n      <td>4.802444</td>\n      <td>3.859718</td>\n      <td>2.910264</td>\n      <td>1.953318</td>\n      <td>0.983612</td>\n      <td>0.0</td>\n    </tr>\n    <tr>\n      <th>1</th>\n      <td>0.000000</td>\n      <td>4.820099</td>\n      <td>3.871550</td>\n      <td>2.917408</td>\n      <td>1.956920</td>\n      <td>0.984823</td>\n      <td>0.0</td>\n    </tr>\n    <tr>\n      <th>2</th>\n      <td>0.000000</td>\n      <td>0.000000</td>\n      <td>3.883441</td>\n      <td>2.924581</td>\n      <td>1.960533</td>\n      <td>0.986037</td>\n      <td>0.0</td>\n    </tr>\n    <tr>\n      <th>3</th>\n      <td>0.000000</td>\n      <td>0.000000</td>\n      <td>0.000000</td>\n      <td>2.931784</td>\n      <td>1.964158</td>\n      <td>0.987254</td>\n      <td>0.0</td>\n    </tr>\n    <tr>\n      <th>4</th>\n      <td>0.000000</td>\n      <td>0.000000</td>\n      <td>0.000000</td>\n      <td>0.000000</td>\n      <td>1.967795</td>\n      <td>0.988473</td>\n      <td>0.0</td>\n    </tr>\n    <tr>\n      <th>5</th>\n      <td>0.000000</td>\n      <td>0.000000</td>\n      <td>0.000000</td>\n      <td>0.000000</td>\n      <td>0.000000</td>\n      <td>0.989696</td>\n      <td>0.0</td>\n    </tr>\n    <tr>\n      <th>6</th>\n      <td>0.000000</td>\n      <td>0.000000</td>\n      <td>0.000000</td>\n      <td>0.000000</td>\n      <td>0.000000</td>\n      <td>0.000000</td>\n      <td>0.0</td>\n    </tr>\n  </tbody>\n</table>\n</div>"
     },
     "metadata": {},
     "execution_count": 11
    }
   ],
   "source": [
    "hl1.pricing(CF,type='fixed')[1]"
   ]
  },
  {
   "cell_type": "code",
   "execution_count": 12,
   "metadata": {},
   "outputs": [
    {
     "output_type": "execute_result",
     "data": {
      "text/plain": [
       "5.739966705018595"
      ]
     },
     "metadata": {},
     "execution_count": 12
    }
   ],
   "source": [
    "np.sum(P)"
   ]
  },
  {
   "cell_type": "code",
   "execution_count": 13,
   "metadata": {},
   "outputs": [],
   "source": [
    "hl2=HoLee()"
   ]
  },
  {
   "cell_type": "code",
   "execution_count": 14,
   "metadata": {},
   "outputs": [
    {
     "output_type": "execute_result",
     "data": {
      "text/plain": [
       "[0.9913379999999999,\n",
       " 0.9789249999999999,\n",
       " 0.9614619999999999,\n",
       " 0.941011,\n",
       " 0.917136,\n",
       " 0.8922580000000001,\n",
       " 0.868142,\n",
       " 0.845016,\n",
       " 0.8218479999999999,\n",
       " 0.797718,\n",
       " 0.7743389999999999]"
      ]
     },
     "metadata": {},
     "execution_count": 14
    }
   ],
   "source": [
    "pzcb=[99.1338,97.8925,96.1462,94.1011,91.7136,89.2258,86.8142,84.5016,82.1848,79.7718,77.4339]\n",
    "pzcb=[item/100 for item in pzcb]\n",
    "pzcb"
   ]
  },
  {
   "cell_type": "code",
   "execution_count": 15,
   "metadata": {},
   "outputs": [
    {
     "output_type": "stream",
     "name": "stdout",
     "text": [
      "Help on method fit in module __main__:\n\nfit(P_zcb, sigma, delta, compounding=0) method of __main__.HoLee instance\n\n"
     ]
    }
   ],
   "source": [
    "help(hl2.fit)"
   ]
  },
  {
   "cell_type": "code",
   "execution_count": 16,
   "metadata": {},
   "outputs": [
    {
     "output_type": "stream",
     "name": "stderr",
     "text": [
      "/Users/Ben/anaconda3/lib/python3.7/site-packages/numpy/core/fromnumeric.py:87: VisibleDeprecationWarning: Creating an ndarray from ragged nested sequences (which is a list-or-tuple of lists-or-tuples-or ndarrays with different lengths or shapes) is deprecated. If you meant to do this, you must specify 'dtype=object' when creating the ndarray\n  return ufunc.reduce(obj, axis, dtype, out, **passkwargs)\n"
     ]
    }
   ],
   "source": [
    "hl2.fit(pzcb,0.0173,0.5)"
   ]
  },
  {
   "cell_type": "code",
   "execution_count": 17,
   "metadata": {},
   "outputs": [
    {
     "output_type": "stream",
     "name": "stdout",
     "text": [
      "Fitted Interest Rates Tree:\n          0         1         2         3         4         5         6   \\\n0   0.017399  0.037471  0.060616  0.080036  0.100928  0.117101  0.129544   \n1   0.000000  0.013005  0.036150  0.055570  0.076463  0.092635  0.105078   \n2   0.000000  0.000000  0.011684  0.031104  0.051997  0.068169  0.080612   \n3   0.000000  0.000000  0.000000  0.006638  0.027531  0.043703  0.056147   \n4   0.000000  0.000000  0.000000  0.000000  0.003065  0.019237  0.031681   \n5   0.000000  0.000000  0.000000  0.000000  0.000000 -0.005229  0.007215   \n6   0.000000  0.000000  0.000000  0.000000  0.000000  0.000000 -0.017251   \n7   0.000000  0.000000  0.000000  0.000000  0.000000  0.000000  0.000000   \n8   0.000000  0.000000  0.000000  0.000000  0.000000  0.000000  0.000000   \n9   0.000000  0.000000  0.000000  0.000000  0.000000  0.000000  0.000000   \n10  0.000000  0.000000  0.000000  0.000000  0.000000  0.000000  0.000000   \n\n          7         8         9         10  \n0   0.141463  0.155857  0.172726  0.185559  \n1   0.116997  0.131391  0.148260  0.161093  \n2   0.092531  0.106925  0.123794  0.136627  \n3   0.068065  0.082459  0.099328  0.112161  \n4   0.043599  0.057994  0.074862  0.087695  \n5   0.019133  0.033528  0.050396  0.063230  \n6  -0.005333  0.009062  0.025931  0.038764  \n7  -0.029799 -0.015404  0.001465  0.014298  \n8   0.000000 -0.039870 -0.023001 -0.010168  \n9   0.000000  0.000000 -0.047467 -0.034634  \n10  0.000000  0.000000  0.000000 -0.059100  \n============================\nFitted Prices Tree:\n          0         1         2         3         4         5         6   \\\n0   0.774339  0.733388  0.706165  0.692306  0.689740  0.698829  0.718314   \n1   0.000000  0.828822  0.788352  0.763483  0.751405  0.752051  0.763621   \n2   0.000000  0.000000  0.880105  0.841979  0.818583  0.809326  0.811785   \n3   0.000000  0.000000  0.000000  0.928545  0.891768  0.870963  0.862988   \n4   0.000000  0.000000  0.000000  0.000000  0.971495  0.937294  0.917420   \n5   0.000000  0.000000  0.000000  0.000000  0.000000  1.008677  0.975286   \n6   0.000000  0.000000  0.000000  0.000000  0.000000  0.000000  1.036801   \n7   0.000000  0.000000  0.000000  0.000000  0.000000  0.000000  0.000000   \n8   0.000000  0.000000  0.000000  0.000000  0.000000  0.000000  0.000000   \n9   0.000000  0.000000  0.000000  0.000000  0.000000  0.000000  0.000000   \n10  0.000000  0.000000  0.000000  0.000000  0.000000  0.000000  0.000000   \n11  0.000000  0.000000  0.000000  0.000000  0.000000  0.000000  0.000000   \n\n          7         8         9         10   11  \n0   0.747634  0.787708  0.841131  0.911394  1.0  \n1   0.785127  0.817153  0.861964  0.922612  1.0  \n2   0.824500  0.847698  0.883313  0.933968  1.0  \n3   0.865848  0.879386  0.905191  0.945463  1.0  \n4   0.909269  0.912258  0.927610  0.957100  1.0  \n5   0.954867  0.946358  0.950585  0.968880  1.0  \n6   1.002753  0.981734  0.974129  0.980805  1.0  \n7   1.053040  1.018432  0.998255  0.992877  1.0  \n8   0.000000  1.056501  1.022980  1.005097  1.0  \n9   0.000000  0.000000  1.048317  1.017468  1.0  \n10  0.000000  0.000000  0.000000  1.029991  1.0  \n11  0.000000  0.000000  0.000000  0.000000  1.0  \n"
     ]
    }
   ],
   "source": [
    "hl2.summary()"
   ]
  },
  {
   "cell_type": "code",
   "execution_count": 18,
   "metadata": {},
   "outputs": [
    {
     "output_type": "execute_result",
     "data": {
      "text/plain": [
       "207.416"
      ]
     },
     "metadata": {},
     "execution_count": 18
    }
   ],
   "source": [
    "def mycf(j,r):\n",
    "    # only pays depends on r_10\n",
    "    # max(11*100*r,94)\n",
    "    if j==10:\n",
    "        return max(11*100*r,94)\n",
    "    else:\n",
    "        return 0\n",
    "mycf(10,0.18856)"
   ]
  },
  {
   "cell_type": "code",
   "execution_count": null,
   "metadata": {},
   "outputs": [],
   "source": []
  },
  {
   "cell_type": "code",
   "execution_count": 19,
   "metadata": {},
   "outputs": [
    {
     "output_type": "execute_result",
     "data": {
      "text/plain": [
       "80.06443821654119"
      ]
     },
     "metadata": {},
     "execution_count": 19
    }
   ],
   "source": [
    "hl2.pricing(mycf,type='conditional',lag=0)[0]"
   ]
  },
  {
   "cell_type": "code",
   "execution_count": 20,
   "metadata": {},
   "outputs": [
    {
     "output_type": "execute_result",
     "data": {
      "text/plain": [
       "           0          1          2          3          4           5   \\\n",
       "0   80.064438  79.046663  80.401412  84.486044  91.462084  101.703837   \n",
       "1    0.000000  82.481370  80.681823  81.264958  84.409048   90.688345   \n",
       "2    0.000000   0.000000  85.357122  83.041824  82.700089   84.708841   \n",
       "3    0.000000   0.000000   0.000000  88.672629  85.986694   85.047848   \n",
       "4    0.000000   0.000000   0.000000   0.000000  91.948174   89.309185   \n",
       "5    0.000000   0.000000   0.000000   0.000000   0.000000   94.869185   \n",
       "6    0.000000   0.000000   0.000000   0.000000   0.000000    0.000000   \n",
       "7    0.000000   0.000000   0.000000   0.000000   0.000000    0.000000   \n",
       "8    0.000000   0.000000   0.000000   0.000000   0.000000    0.000000   \n",
       "9    0.000000   0.000000   0.000000   0.000000   0.000000    0.000000   \n",
       "10   0.000000   0.000000   0.000000   0.000000   0.000000    0.000000   \n",
       "11   0.000000   0.000000   0.000000   0.000000   0.000000    0.000000   \n",
       "\n",
       "            6           7           8           9           10   11  \n",
       "0   115.173691  131.660797  151.210368  174.883843  204.114951  0.0  \n",
       "1   100.499139  114.100482  131.410814  152.046714  177.202467  0.0  \n",
       "2    89.476047   97.740418  110.537726  128.620930  150.289983  0.0  \n",
       "3    85.815689   88.571895   94.199596  104.595459  123.377499  0.0  \n",
       "4    88.037767   87.946009   89.076599   91.733733   96.465015  0.0  \n",
       "5    92.306949   90.940828   90.691886   91.660960   94.000000  0.0  \n",
       "6    96.936025   94.340247   92.938110   92.789130   94.000000  0.0  \n",
       "7     0.000000   97.866738   95.239968   93.931186   94.000000  0.0  \n",
       "8     0.000000    0.000000   97.598837   95.087298   94.000000  0.0  \n",
       "9     0.000000    0.000000    0.000000   96.257640   94.000000  0.0  \n",
       "10    0.000000    0.000000    0.000000    0.000000   94.000000  0.0  \n",
       "11    0.000000    0.000000    0.000000    0.000000    0.000000  0.0  "
      ],
      "text/html": "<div>\n<style scoped>\n    .dataframe tbody tr th:only-of-type {\n        vertical-align: middle;\n    }\n\n    .dataframe tbody tr th {\n        vertical-align: top;\n    }\n\n    .dataframe thead th {\n        text-align: right;\n    }\n</style>\n<table border=\"1\" class=\"dataframe\">\n  <thead>\n    <tr style=\"text-align: right;\">\n      <th></th>\n      <th>0</th>\n      <th>1</th>\n      <th>2</th>\n      <th>3</th>\n      <th>4</th>\n      <th>5</th>\n      <th>6</th>\n      <th>7</th>\n      <th>8</th>\n      <th>9</th>\n      <th>10</th>\n      <th>11</th>\n    </tr>\n  </thead>\n  <tbody>\n    <tr>\n      <th>0</th>\n      <td>80.064438</td>\n      <td>79.046663</td>\n      <td>80.401412</td>\n      <td>84.486044</td>\n      <td>91.462084</td>\n      <td>101.703837</td>\n      <td>115.173691</td>\n      <td>131.660797</td>\n      <td>151.210368</td>\n      <td>174.883843</td>\n      <td>204.114951</td>\n      <td>0.0</td>\n    </tr>\n    <tr>\n      <th>1</th>\n      <td>0.000000</td>\n      <td>82.481370</td>\n      <td>80.681823</td>\n      <td>81.264958</td>\n      <td>84.409048</td>\n      <td>90.688345</td>\n      <td>100.499139</td>\n      <td>114.100482</td>\n      <td>131.410814</td>\n      <td>152.046714</td>\n      <td>177.202467</td>\n      <td>0.0</td>\n    </tr>\n    <tr>\n      <th>2</th>\n      <td>0.000000</td>\n      <td>0.000000</td>\n      <td>85.357122</td>\n      <td>83.041824</td>\n      <td>82.700089</td>\n      <td>84.708841</td>\n      <td>89.476047</td>\n      <td>97.740418</td>\n      <td>110.537726</td>\n      <td>128.620930</td>\n      <td>150.289983</td>\n      <td>0.0</td>\n    </tr>\n    <tr>\n      <th>3</th>\n      <td>0.000000</td>\n      <td>0.000000</td>\n      <td>0.000000</td>\n      <td>88.672629</td>\n      <td>85.986694</td>\n      <td>85.047848</td>\n      <td>85.815689</td>\n      <td>88.571895</td>\n      <td>94.199596</td>\n      <td>104.595459</td>\n      <td>123.377499</td>\n      <td>0.0</td>\n    </tr>\n    <tr>\n      <th>4</th>\n      <td>0.000000</td>\n      <td>0.000000</td>\n      <td>0.000000</td>\n      <td>0.000000</td>\n      <td>91.948174</td>\n      <td>89.309185</td>\n      <td>88.037767</td>\n      <td>87.946009</td>\n      <td>89.076599</td>\n      <td>91.733733</td>\n      <td>96.465015</td>\n      <td>0.0</td>\n    </tr>\n    <tr>\n      <th>5</th>\n      <td>0.000000</td>\n      <td>0.000000</td>\n      <td>0.000000</td>\n      <td>0.000000</td>\n      <td>0.000000</td>\n      <td>94.869185</td>\n      <td>92.306949</td>\n      <td>90.940828</td>\n      <td>90.691886</td>\n      <td>91.660960</td>\n      <td>94.000000</td>\n      <td>0.0</td>\n    </tr>\n    <tr>\n      <th>6</th>\n      <td>0.000000</td>\n      <td>0.000000</td>\n      <td>0.000000</td>\n      <td>0.000000</td>\n      <td>0.000000</td>\n      <td>0.000000</td>\n      <td>96.936025</td>\n      <td>94.340247</td>\n      <td>92.938110</td>\n      <td>92.789130</td>\n      <td>94.000000</td>\n      <td>0.0</td>\n    </tr>\n    <tr>\n      <th>7</th>\n      <td>0.000000</td>\n      <td>0.000000</td>\n      <td>0.000000</td>\n      <td>0.000000</td>\n      <td>0.000000</td>\n      <td>0.000000</td>\n      <td>0.000000</td>\n      <td>97.866738</td>\n      <td>95.239968</td>\n      <td>93.931186</td>\n      <td>94.000000</td>\n      <td>0.0</td>\n    </tr>\n    <tr>\n      <th>8</th>\n      <td>0.000000</td>\n      <td>0.000000</td>\n      <td>0.000000</td>\n      <td>0.000000</td>\n      <td>0.000000</td>\n      <td>0.000000</td>\n      <td>0.000000</td>\n      <td>0.000000</td>\n      <td>97.598837</td>\n      <td>95.087298</td>\n      <td>94.000000</td>\n      <td>0.0</td>\n    </tr>\n    <tr>\n      <th>9</th>\n      <td>0.000000</td>\n      <td>0.000000</td>\n      <td>0.000000</td>\n      <td>0.000000</td>\n      <td>0.000000</td>\n      <td>0.000000</td>\n      <td>0.000000</td>\n      <td>0.000000</td>\n      <td>0.000000</td>\n      <td>96.257640</td>\n      <td>94.000000</td>\n      <td>0.0</td>\n    </tr>\n    <tr>\n      <th>10</th>\n      <td>0.000000</td>\n      <td>0.000000</td>\n      <td>0.000000</td>\n      <td>0.000000</td>\n      <td>0.000000</td>\n      <td>0.000000</td>\n      <td>0.000000</td>\n      <td>0.000000</td>\n      <td>0.000000</td>\n      <td>0.000000</td>\n      <td>94.000000</td>\n      <td>0.0</td>\n    </tr>\n    <tr>\n      <th>11</th>\n      <td>0.000000</td>\n      <td>0.000000</td>\n      <td>0.000000</td>\n      <td>0.000000</td>\n      <td>0.000000</td>\n      <td>0.000000</td>\n      <td>0.000000</td>\n      <td>0.000000</td>\n      <td>0.000000</td>\n      <td>0.000000</td>\n      <td>0.000000</td>\n      <td>0.0</td>\n    </tr>\n  </tbody>\n</table>\n</div>"
     },
     "metadata": {},
     "execution_count": 20
    }
   ],
   "source": [
    "hl2.pricing(mycf,type='conditional',lag=0)[1]"
   ]
  },
  {
   "cell_type": "code",
   "execution_count": null,
   "metadata": {},
   "outputs": [],
   "source": []
  }
 ]
}